{
 "cells": [
  {
   "cell_type": "markdown",
   "metadata": {},
   "source": [
    "# Table of Contents\n",
    "\n",
    "- [Chapter 01: Introduction](ch01).\n",
    "- [Chapter 02: Wave attenuation](ch02).\n",
    "- [Chapter 03: Surface elevation changes](ch03).\n",
    "- [Chapter 04: Forest structure changes](ch04).\n",
    "- [Chapter 05: Field measurements](ch05).\n",
    "- [Chapter 06: Remote sensing](ch06).\n",
    "- [Chapter 07: Numerical modelling](ch07).\n",
    "- [Chapter 08: Guidelines](ch08).\n",
    "- [Chapter 09: Applications](ch09)."
   ]
  }
 ],
 "metadata": {
  "kernelspec": {
   "display_name": "Python 3",
   "language": "python",
   "name": "python3"
  },
  "language_info": {
   "codemirror_mode": {
    "name": "ipython",
    "version": 3
   },
   "file_extension": ".py",
   "mimetype": "text/x-python",
   "name": "python",
   "nbconvert_exporter": "python",
   "pygments_lexer": "ipython3",
   "version": "3.8.0"
  },
  "widgets": {
   "application/vnd.jupyter.widget-state+json": {
    "state": {},
    "version_major": 2,
    "version_minor": 0
   }
  }
 },
 "nbformat": 4,
 "nbformat_minor": 4
}
