{
 "cells": [
  {
   "cell_type": "markdown",
   "metadata": {},
   "source": [
    "(ch01)=\n",
    "# 01: Introduction\n",
    "\n",
    "Here is my citation {cite}`holdgraf_evidence_2014`.\n",
    "\n",
    "Here are multiple citations {cite}`holdgraf_evidence_2014,holdgraf_rapid_2016`!\n",
    "\n",
    "Hundreds of millions of people are exposed to the risk of coastal flooding due to the compounding effects of tides, storms, tropical cyclones and tsunamis (Kulp and Strauss, 2019). This exposure is expected to increase with sea level rise (SLR) and the increasing frequency and intensity of tropical cyclones (Woodruff et al., 2013; Kirezci et al., 2020; Taherkhani et al., 2020). Rapid coastal population growth and urbanization is also increasing the vulnerability to, and consequences of, flood events, especially in the tropics (Neumann et al., 2015). Meanwhile, coastal wetland ecosystems that can reduce flood risk (Arkema et al., 2013; Van Coppenolle and Temmerman, 2020), are in rapid decline due to their exploitation and conversion for other land-use purposes. To reduce the flood risk exposure in low-elevation coastal zones, particularly in developing economies, it is critical to develop and implement sustainable and cost-effective solutions that reduce coastal flood risk.\n",
    "\n",
    "Mangrove forests can contribute to the reduction of coastal flood risk in low-elevation coastal zones (Hochard et al., 2019; Menéndez et al., 2020). Due to their presence, extent and characteristic above-ground aerial root systems, they can help reduce surge levels and attenuate wind waves. Moreover, mangroves can provide a variety of co-benefits to coastal communities and beyond, that are embedded in the United Nations Sustainable Development Goals (SDGs). Mangroves contribute to food provision (SDG-2) by providing an important habitat for fish and shellfish (Carrasquilla-Henao and Juanes, 2017); to economic development (SDG-8) by supporting ecotourism (Spalding and Parrett, 2019); and to climate action (SDG-13) by effectively sequestrating carbon (Ezcurra et al., 2016). As such, mangroves act as a broad Nature-based Solution (NbS) to both climate change adaptation and mitigation. Their application to reduce coastal flood risk is also increasingly supported worldwide through numerous initiatives that seek to incorporate coastal ecosystem protection and restoration into coastal engineering and management.\n",
    "\n",
    "There is increasing interest in the application of mangroves to contribute to flood risk reduction along with a range of engineering structures, in hybrid-engineering solutions (Sutton-Grier et al., 2015). To capitalize on this interest and successfully and effectively integrate mangroves in coastal flood risk management, we need to understand mangrove dynamics and thresholds, and the optimal conditions for mangroves to reduce flood risk. In particular, design and implementation guidelines will help understand how mangroves can be incorporated into broader flood risk reduction solutions. Guidelines translate scientific knowledge of mangrove dynamics into a language that stakeholders and users, such as engineers and decision makers, can work with, while providing insights in future research required to better incorporate mangroves in flood risk projects.\n",
    "\n",
    "Management (i.e., decision making) and engineering of projects to reduce coastal flood risk are typically executed in well-defined sequential processes. Firstly, the management process assesses the flood risk exposure of a coastal community and determines the necessity of flood protection infrastructure to prevent or mitigate flood events. Secondly, the engineering process concerns the design, construction and maintenance of this infrastructure. The infrastructure is initially designed to have functionality for flood risk reduction, that is of a sufficient capacity to avoid and/or mitigate the effects of flood events. The infrastructure must also have sufficient persistence, that is the capacity to maintain its functionality for a certain period of time. After implementation, regular monitoring is required to assess the infrastructure functionality over time. The monitoring requirement recognizes the large variability in geomorphological and socio-economic developments along shorelines. Furthermore, predictive models are typically used to explore effects of anticipated extreme conditions or environmental change on the functionality and persistence of the infrastructure. In case the infrastructure functionality cannot be guaranteed for the design life, then (additional) engineering interventions may need to be considered.\n",
    "\n",
    "Mangroves have a functional capacity to reduce coastal flood risk, but also have innate persistent capacities that traditional hard-engineering infrastructure is lacking (Gedan et al., 2011; Cheong et al., 2013; Temmerman et al., 2013; Bouma et al., 2014). The functionality of mangroves is provided by the structure of their above-ground biomass and aerial roots that dampens hydrodynamic flows and dissipates hydrodynamic energy of waves (Marois and Mitsch, 2015). Mangroves also have innate persistence due to their adaptive ecosystem engineering capacity to adjust to changing environmental conditions (Jones et al., 1994, 1997). Their natural regeneration and sediment trapping capacity enables mangroves to (1) stabilise shorelines (Krauss et al., 2014; Woodroffe et al., 2016), (2) recover from impacts of extreme events (Krauss and Osland, 2020), and (3) adapt to longer-term changes in environmental conditions (Schuerch et al., 2018; Saintilan et al., 2020). Hence, mangroves have the potential to offer a shoreline-stabilising, impact-resilient and climate-adaptive strategy to reduce coastal flood risk. In doing so, mangroves can provide additional values for society while implementation and maintenance costs could be substantially lower compared to hard-engineering infrastructure (Borsje et al., 2011; Narayan et al., 2016).\n",
    "\n",
    "Coastal flood risk management requires reliable systems providing a predictable functionality with a well-defined persistence. However, the functionality of mangroves is highly non-linear in relation to forest width (Koch et al., 2009; Montgomery et al., 2019). Also, their persistence is limited by critical thresholds: mangroves may collapse when either impacts of extreme events (Sippo et al., 2018; Krauss and Osland, 2020), or changes in environmental conditions exceed their natural tolerance (Friess et al., 2012). Such non-linearities and thresholds to mangrove functionality and persistence complicate efforts to incorporate mangroves into coastal flood protection projects. This way, mangroves bring uncertainty into a situation where failure could endanger lives and livelihoods.\n",
    "\n",
    "There is a fundamental difference in the variability and uncertainty of functionality and persistence between hard-engineering infrastructure and mangroves (Figure 1). This difference necessitates an adaptive management approach. Successful design and implementation of mangroves to reduce coastal flood risk requires (1) a mechanistic understanding of mangrove functionality and persistence, (2) accurate assessments of mangrove functionality and persistence, and (3) identification of design alternatives to enhance mangrove functionality or persistence. For conventional hard-engineering structures, mechanistic understanding, tools and interventions have been addressed and distilled in design guidelines that have been widely applied to manage coastal flood risk (USACE, 2001). By contrast, practical engineering and design guidelines for flood risk reduction using mangroves, or other NbS, based on a mechanistic understanding of these systems, have not yet been developed. This review aims at providing a comprehensive overview of the context and processes that determine mangrove functionality and persistence, which will allow for the definition, quantification and monitoring of locally suitable critical success factors for the implementation of mangroves to reduce coastal flood risk.\n",
    "\n",
    "The review discusses the functionality and persistence of mangroves from the perspective of coastal flood risk reduction. Firstly, we discuss field evidence for, and the mechanistics of, mangrove functionality and persistence. Secondly, we present field monitoring and remote sensing techniques to monitor mangrove functionality and persistence. Thirdly, we discuss modelling tools that can aid in assessing and predicting the functionality and persistence of mangroves. Fourthly, we provide an overview of available guidelines for engineering and management with mangroves and provide an operationalization of these guidelines following the functionality and persistence approach and the evidence and tools discussed before. Before the conclusion, we discuss remaining challenges that require further study to be able to proceed to practical engineering and management strategies to reduce coastal flood risk with mangroves."
   ]
  },
  {
   "cell_type": "code",
   "execution_count": null,
   "metadata": {
    "vscode": {
     "languageId": "plaintext"
    }
   },
   "outputs": [],
   "source": []
  },
  {
   "cell_type": "code",
   "execution_count": null,
   "metadata": {
    "vscode": {
     "languageId": "plaintext"
    }
   },
   "outputs": [],
   "source": []
  },
  {
   "cell_type": "code",
   "execution_count": null,
   "metadata": {
    "vscode": {
     "languageId": "plaintext"
    }
   },
   "outputs": [],
   "source": []
  }
 ],
 "metadata": {
  "kernelspec": {
   "display_name": "Python 3",
   "language": "python",
   "name": "python3"
  },
  "language_info": {
   "codemirror_mode": {
    "name": "ipython",
    "version": 3
   },
   "file_extension": ".py",
   "mimetype": "text/x-python",
   "name": "python",
   "nbconvert_exporter": "python",
   "pygments_lexer": "ipython3",
   "version": "3.8.0"
  },
  "widgets": {
   "application/vnd.jupyter.widget-state+json": {
    "state": {},
    "version_major": 2,
    "version_minor": 0
   }
  }
 },
 "nbformat": 4,
 "nbformat_minor": 4
}
