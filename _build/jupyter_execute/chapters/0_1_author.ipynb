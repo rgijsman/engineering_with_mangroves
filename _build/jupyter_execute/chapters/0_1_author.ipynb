{
 "cells": [
  {
   "cell_type": "markdown",
   "metadata": {},
   "source": [
    "# Author\n",
    "\n",
    "Rik Gijsman is a coastal researcher and engineer who graduated (MSc) from both Delft University of Technology and National University of Singapore. He studied sandy beach dynamics at the Leibniz University Hannover (2016 - 2019) and completed his PhD on mangrove ecosystem dynamics at the University of Twente (2019 - 2024). His interest is in the morphological development of coastlines in response to engineering interventions and a changing climate. Rik is currently a postdoctoral researcher at the University of Twente and aims to support mangrove conservation and restoration efforts as well as their integration in coastal engineering practice."
   ]
  }
 ],
 "metadata": {
  "kernelspec": {
   "display_name": "Python 3",
   "language": "python",
   "name": "python3"
  },
  "language_info": {
   "codemirror_mode": {
    "name": "ipython",
    "version": 3
   },
   "file_extension": ".py",
   "mimetype": "text/x-python",
   "name": "python",
   "nbconvert_exporter": "python",
   "pygments_lexer": "ipython3",
   "version": "3.13.1"
  },
  "widgets": {
   "application/vnd.jupyter.widget-state+json": {
    "state": {},
    "version_major": 2,
    "version_minor": 0
   }
  }
 },
 "nbformat": 4,
 "nbformat_minor": 4
}